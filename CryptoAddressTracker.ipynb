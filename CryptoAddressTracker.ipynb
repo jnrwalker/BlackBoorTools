{
 "cells": [
  {
   "cell_type": "code",
   "execution_count": 1,
   "metadata": {},
   "outputs": [],
   "source": [
    "import discord\n",
    "import logging\n",
    "import os"
   ]
  },
  {
   "cell_type": "code",
   "execution_count": 2,
   "metadata": {},
   "outputs": [
    {
     "data": {
      "image/png": "[encoded data removed]",
      "text/plain": [
       "<Figure size 432x288 with 1 Axes>"
      ]
     },
     "metadata": {
      "needs_background": "light"
     },
     "output_type": "display_data"
    }
   ],
   "source": [
    "#Setup API key to Etherscan\n",
    "\n",
    "from requests import get\n",
    "from matplotlib import pyplot as plt\n",
    "from datetime import datetime\n",
    "\n",
    "API_KEY = \"Q8MG68CPTZGMTGPUPGZECVRW3JE816VMY9\"\n",
    "BASE_URL = \"https://api.etherscan.io/api\"\n",
    "ETHER_VALUE = 10 ** 18\n",
    "\n",
    "def make_api_url(module, action, address, **kwargs):\n",
    "    url = BASE_URL + f\"?module={module}&action={action}&address={address}&apikey={API_KEY}\"\n",
    "\n",
    "    for key, value in kwargs.items():\n",
    "        url += f\"&{key}={value}\"\n",
    "\n",
    "    return url\n",
    "\n",
    "def get_account_balance(address):\n",
    "    balance_url = make_api_url(\"account\", \"balance\", address, tag=\"latest\")\n",
    "    response = get(balance_url)\n",
    "    data = response.json()\n",
    "\n",
    "    value = int(data[\"result\"]) / ETHER_VALUE\n",
    "    return value\n",
    "\n",
    "def get_transactions(address):\n",
    "    transactions_url = make_api_url(\"account\", \"txlist\", address, startblock=0, endblock=99999999, page=1, offset=10000, sort=\"asc\")\n",
    "    response = get(transactions_url)\n",
    "    data = response.json()[\"result\"]\n",
    "\n",
    "    internal_tx_url = make_api_url(\"account\", \"txlistinternal\", address, startblock=0, endblock=99999999, page=1, offset=10000, sort=\"asc\")\n",
    "    response2 = get(internal_tx_url)\n",
    "    data2 = response2.json()[\"result\"]\n",
    "\n",
    "    data.extend(data2)\n",
    "    data.sort(key=lambda x: int(x['timeStamp']))\n",
    "\n",
    "    current_balance = 0\n",
    "    balances = []\n",
    "    times = []\n",
    "\n",
    "    for tx in data:\n",
    "        to = tx[\"to\"]\n",
    "        from_addr = tx[\"from\"]\n",
    "        value = int(tx[\"value\"]) / ETHER_VALUE\n",
    "\n",
    "        if \"gasPrice\" in tx:\n",
    "            gas = int(tx[\"gasUsed\"]) * int(tx[\"gasPrice\"]) / ETHER_VALUE\n",
    "        else:\n",
    "            gas = int(tx[\"gasUsed\"]) / ETHER_VALUE\n",
    "\n",
    "        time = datetime.fromtimestamp(int(tx['timeStamp']))\n",
    "        money_in = to.lower() == address.lower()\n",
    "\n",
    "        if money_in:\n",
    "            current_balance += value\n",
    "        else:\n",
    "            current_balance -= value + gas\n",
    "\n",
    "        balances.append(current_balance)\n",
    "        times.append(time)\n",
    "\n",
    "    plt.plot(times, balances)\n",
    "    plt.show()\n",
    "\n",
    "\n",
    "address = \"0x05e793ce0c6027323ac150f6d45c2344d28b6019\"\n",
    "get_transactions(address)"
   ]
  },
  {
   "cell_type": "code",
   "execution_count": null,
   "metadata": {},
   "outputs": [],
   "source": [
    "\n"
   ]
  },
  {
   "cell_type": "code",
   "execution_count": null,
   "metadata": {},
   "outputs": [],
   "source": [
    "#Configure logs"
   ]
  },
  {
   "cell_type": "code",
   "execution_count": null,
   "metadata": {},
   "outputs": [],
   "source": [
    "#"
   ]
  }
 ],
 "metadata": {
  "kernelspec": {
   "display_name": "Python 3 (ipykernel)",
   "language": "python",
   "name": "python3"
  },
  "language_info": {
   "codemirror_mode": {
    "name": "ipython",
    "version": 3
   },
   "file_extension": ".py",
   "mimetype": "text/x-python",
   "name": "python",
   "nbconvert_exporter": "python",
   "pygments_lexer": "ipython3",
   "version": "3.7.4"
  }
 },
 "nbformat": 4,
 "nbformat_minor": 2
}
