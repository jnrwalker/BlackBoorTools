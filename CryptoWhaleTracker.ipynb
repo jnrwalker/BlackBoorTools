{
 "cells": [
  {
   "cell_type": "code",
   "execution_count": 4,
   "metadata": {},
   "outputs": [],
   "source": [
    "API_key = 'TXVEkqUEu6bfo2mNhEJ3W2ntWmgdaxrH'"
   ]
  },
  {
   "cell_type": "code",
   "execution_count": 6,
   "metadata": {},
   "outputs": [],
   "source": [
    "from whalealert.whalealert import WhaleAlert"
   ]
  },
  {
   "cell_type": "code",
   "execution_count": 7,
   "metadata": {},
   "outputs": [],
   "source": [
    "import time\n",
    "from pprint import pprint\n",
    "whale = WhaleAlert()"
   ]
  },
  {
   "cell_type": "code",
   "execution_count": 9,
   "metadata": {},
   "outputs": [
    {
     "name": "stdout",
     "output_type": "stream",
     "text": [
      "[{'amount': 668598,\n",
      "  'amount_usd': 673956.44,\n",
      "  'blockchain': 'tron',\n",
      "  'from': {'address': 'TNXoiAJ3dct8Fjg4M9fkLFh9S2v9TXc32G',\n",
      "           'owner': 'Binance',\n",
      "           'owner_type': 'exchange'},\n",
      "  'hash': '2fe4f90e6c5ed8e61b7dffd1cf97b9c52a129e61031970385c9e783c0b195751',\n",
      "  'id': '1937935235',\n",
      "  'symbol': 'USDT',\n",
      "  'timestamp': 1670851935,\n",
      "  'to': {'address': 'TET6qrf4CHbg3Bmq1XZDZ3Hp6aN2SpW74r',\n",
      "         'owner': '',\n",
      "         'owner_type': 'unknown'},\n",
      "  'transaction_count': 1,\n",
      "  'transaction_type': 'transfer'}]\n",
      "{'error_code': 200,\n",
      " 'error_message': '',\n",
      " 'timestamp': '2022-12-12T13:41:22.222398',\n",
      " 'transaction_count': 1}\n"
     ]
    }
   ],
   "source": [
    "start_time = int(time.time() - 600)\n",
    "transaction_count_limit = 1\n",
    "\n",
    "success, transactions, status = whale.get_transactions(start_time, api_key=API_key, limit=transaction_count_limit)\n",
    "pprint(transactions)\n",
    "pprint(status)\n"
   ]
  },
  {
   "cell_type": "code",
   "execution_count": null,
   "metadata": {},
   "outputs": [],
   "source": []
  }
 ],
 "metadata": {
  "kernelspec": {
   "display_name": "Python 3 (ipykernel)",
   "language": "python",
   "name": "python3"
  },
  "language_info": {
   "codemirror_mode": {
    "name": "ipython",
    "version": 3
   },
   "file_extension": ".py",
   "mimetype": "text/x-python",
   "name": "python",
   "nbconvert_exporter": "python",
   "pygments_lexer": "ipython3",
   "version": "3.7.4"
  }
 },
 "nbformat": 4,
 "nbformat_minor": 2
}
